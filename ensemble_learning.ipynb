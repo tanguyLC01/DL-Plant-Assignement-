{
 "cells": [
  {
   "cell_type": "code",
   "execution_count": 107,
   "metadata": {},
   "outputs": [],
   "source": [
    "from utils.load_dataset import PlantVillageDataset\n",
    "import matplotlib.pyplot as plt\n",
    "import torch\n",
    "from torch.utils.data import DataLoader\n",
    "import torch.optim as optim \n",
    "import torch.nn as nn\n",
    "from utils.preprocessing import preprocessing_img\n",
    "import torchvision.models  as models\n",
    "from torchvision import transforms\n",
    "from test import LinearHeadModel"
   ]
  },
  {
   "cell_type": "code",
   "execution_count": 106,
   "metadata": {},
   "outputs": [],
   "source": [
    "device = torch.device(\"mps\" if torch.backends.mps.is_available() else \"cpu\")"
   ]
  },
  {
   "cell_type": "code",
   "execution_count": 95,
   "metadata": {},
   "outputs": [],
   "source": [
    "from create_datasets import train_validation_dataloader as train_dataloader, test_validation_dataloader as tes_dataloader"
   ]
  },
  {
   "cell_type": "markdown",
   "metadata": {},
   "source": [
    "## Import pre-trained models"
   ]
  },
  {
   "cell_type": "code",
   "execution_count": 96,
   "metadata": {},
   "outputs": [],
   "source": [
    "# ResNet50\n",
    "resnet50 = models.resnet50(weights='ResNet50_Weights.DEFAULT')\n",
    "for param in resnet50.parameters():\n",
    "    param.requires_grad = False\n",
    "\n",
    "# DenseNet201\n",
    "densenet = models.densenet201(weights=models.DenseNet201_Weights.DEFAULT)\n",
    "for param in densenet.parameters():\n",
    "    param.requires_grad = False\n",
    "\n",
    "# EfficientNetB0\n",
    "efficientnet_b0 = models.efficientnet_b0(weights=models.EfficientNet_B0_Weights.IMAGENET1K_V1)\n",
    "for param in efficientnet_b0.parameters():\n",
    "    param.requires_grad = False\n",
    "\n",
    "# EfficientNetB3\n",
    "efficientnet_b3 = models.efficientnet_b3(weights=models.EfficientNet_B3_Weights.IMAGENET1K_V1)\n",
    "for param in efficientnet_b3.parameters():\n",
    "    param.requires_grad = False"
   ]
  },
  {
   "cell_type": "markdown",
   "metadata": {},
   "source": [
    "## Import heads for each pre-trained models"
   ]
  },
  {
   "cell_type": "code",
   "execution_count": 97,
   "metadata": {},
   "outputs": [],
   "source": [
    "# Load model from file\n",
    "def load_model_from_file(model_path, input_dim, output_dim):\n",
    "    model = LinearHeadModel(input_dim, output_dim)\n",
    "    model.load_state_dict(torch.load(model_path))\n",
    "    return model"
   ]
  },
  {
   "cell_type": "code",
   "execution_count": 98,
   "metadata": {},
   "outputs": [],
   "source": [
    "# Constants\n",
    "from dim_constants import input_dim_resnet,  input_dim_densenet, input_dim_b0, input_dim_b3\n",
    "num_classes = 38\n",
    "output_dim = num_classes + 1"
   ]
  },
  {
   "cell_type": "code",
   "execution_count": 99,
   "metadata": {},
   "outputs": [
    {
     "name": "stderr",
     "output_type": "stream",
     "text": [
      "/var/folders/d_/dg_nw4n10mggl88prgyfcsn40000gn/T/ipykernel_11830/881478895.py:4: FutureWarning: You are using `torch.load` with `weights_only=False` (the current default value), which uses the default pickle module implicitly. It is possible to construct malicious pickle data which will execute arbitrary code during unpickling (See https://github.com/pytorch/pytorch/blob/main/SECURITY.md#untrusted-models for more details). In a future release, the default value for `weights_only` will be flipped to `True`. This limits the functions that could be executed during unpickling. Arbitrary objects will no longer be allowed to be loaded via this mode unless they are explicitly allowlisted by the user via `torch.serialization.add_safe_globals`. We recommend you start setting `weights_only=True` for any use case where you don't have full control of the loaded file. Please open an issue on GitHub for any issues related to this experimental feature.\n",
      "  model.load_state_dict(torch.load(model_path))\n"
     ]
    }
   ],
   "source": [
    "resnet50_head = load_model_from_file('models/resnet50.pth', input_dim_resnet, output_dim)\n",
    "densenet201_head = load_model_from_file('models/densenet201.pth', input_dim_densenet, output_dim)\n",
    "efficientnet_b0_head = load_model_from_file('models/efficientnet_b0.pth', input_dim_b0, output_dim)\n",
    "efficientnet_b3_head = load_model_from_file('models/efficientnet_b3.pth', input_dim_b3, output_dim)"
   ]
  },
  {
   "cell_type": "code",
   "execution_count": 100,
   "metadata": {},
   "outputs": [],
   "source": [
    "# Modify head of pre-trained models\n",
    "resnet50.fc = resnet50_head.to(device)\n",
    "densenet.classifier = densenet201_head.to(device)\n",
    "efficientnet_b0.classifier = efficientnet_b0_head.to(device)\n",
    "efficientnet_b3.classifier = efficientnet_b3_head.to(device)"
   ]
  },
  {
   "cell_type": "code",
   "execution_count": 102,
   "metadata": {},
   "outputs": [],
   "source": [
    "resnet50 = resnet50.to(device)\n",
    "densenet = densenet.to(device)\n",
    "efficientnet_b0 = efficientnet_b0.to(device)\n",
    "efficientnet_b3 = efficientnet_b3.to(device)"
   ]
  },
  {
   "cell_type": "code",
   "execution_count": 114,
   "metadata": {},
   "outputs": [],
   "source": [
    "import torch\n",
    "\n",
    "class WeightedEnsemble(nn.Module):\n",
    "    def __init__(self, models, num_classes):\n",
    "        super(WeightedEnsemble, self).__init__()\n",
    "        self.models = models\n",
    "        self.num_models = len(models)\n",
    "        self.weights = nn.Parameter(torch.ones(self.num_models) / self.num_models)\n",
    "        self.num_classes = num_classes\n",
    "\n",
    "    def forward(self, inputs):\n",
    "        all_preds = []\n",
    "\n",
    "        # Forward pass for each model in the ensemble\n",
    "        for i, model in enumerate(self.models):\n",
    "            model.eval()\n",
    "            with torch.no_grad():\n",
    "                inputs = inputs.to(device)\n",
    "                outputs = model(inputs)\n",
    "                outputs = outputs.to(device)\n",
    "\n",
    "                # Pass through the head (batch_norm and linear layers)\n",
    "                prob = nn.functional.softmax(outputs, dim=1).to(device)  # Apply softmax to get probabilities\n",
    "                all_preds.append(prob)\n",
    "\n",
    "        # Stack all predictions from each model and move to the same device\n",
    "        all_preds = torch.stack(all_preds).to(device)\n",
    "        normalized_weights = nn.functional.softmax(self.weights.to(device), dim=0).to(device)\n",
    "\n",
    "        # Aggregate the weighted predictions\n",
    "        weighted_preds = torch.sum(all_preds * normalized_weights.view(-1, 1, 1), dim=0).to(device)\n",
    "        return weighted_preds\n"
   ]
  },
  {
   "cell_type": "code",
   "execution_count": 115,
   "metadata": {},
   "outputs": [],
   "source": [
    "def train_ensemble_weights(ensemble, train_loader, criterion, optimizer, epochs=10):\n",
    "    for epoch in range(epochs):\n",
    "        ensemble.train()  # Ensemble training mode (weights can be trained)\n",
    "        running_loss = 0.0\n",
    "\n",
    "        for inputs, labels in train_loader:\n",
    "            inputs, labels = inputs.to(device), labels.to(device)\n",
    "            \n",
    "            optimizer.zero_grad()  # Zero gradients for optimizer\n",
    "            outputs = ensemble(inputs).to(device)  # Forward pass through ensemble\n",
    "            loss = criterion(outputs, labels)  # Compute loss\n",
    "            loss.backward()  # Backpropagate\n",
    "            optimizer.step()  # Update weights\n",
    "            \n",
    "            running_loss += loss.item()\n",
    "\n",
    "        print(f\"Epoch {epoch+1}/{epochs}, Loss: {running_loss/len(train_loader)}\")\n"
   ]
  },
  {
   "cell_type": "code",
   "execution_count": 117,
   "metadata": {},
   "outputs": [],
   "source": [
    "# List of pretrained models\n",
    "models_list = [resnet50, densenet, efficientnet_b0, efficientnet_b3]\n",
    "\n",
    "# Define the ensemble\n",
    "ensemble = WeightedEnsemble(models_list, num_classes)\n",
    "\n",
    "# Loss function and optimizer\n",
    "criterion = nn.CrossEntropyLoss()\n",
    "optimizer = optim.Adam([ensemble.weights], lr=0.01) "
   ]
  },
  {
   "cell_type": "code",
   "execution_count": 118,
   "metadata": {},
   "outputs": [
    {
     "ename": "KeyboardInterrupt",
     "evalue": "",
     "output_type": "error",
     "traceback": [
      "\u001b[0;31m---------------------------------------------------------------------------\u001b[0m",
      "\u001b[0;31mKeyboardInterrupt\u001b[0m                         Traceback (most recent call last)",
      "Cell \u001b[0;32mIn[118], line 2\u001b[0m\n\u001b[1;32m      1\u001b[0m \u001b[38;5;66;03m# Train the ensemble weights\u001b[39;00m\n\u001b[0;32m----> 2\u001b[0m \u001b[43mtrain_ensemble_weights\u001b[49m\u001b[43m(\u001b[49m\u001b[43mensemble\u001b[49m\u001b[43m,\u001b[49m\u001b[43m \u001b[49m\u001b[43mtrain_dataloader\u001b[49m\u001b[43m,\u001b[49m\u001b[43m \u001b[49m\u001b[43mcriterion\u001b[49m\u001b[43m,\u001b[49m\u001b[43m \u001b[49m\u001b[43moptimizer\u001b[49m\u001b[43m,\u001b[49m\u001b[43m \u001b[49m\u001b[43mepochs\u001b[49m\u001b[38;5;241;43m=\u001b[39;49m\u001b[38;5;241;43m10\u001b[39;49m\u001b[43m)\u001b[49m\n",
      "Cell \u001b[0;32mIn[115], line 7\u001b[0m, in \u001b[0;36mtrain_ensemble_weights\u001b[0;34m(ensemble, train_loader, criterion, optimizer, epochs)\u001b[0m\n\u001b[1;32m      4\u001b[0m running_loss \u001b[38;5;241m=\u001b[39m \u001b[38;5;241m0.0\u001b[39m\n\u001b[1;32m      6\u001b[0m \u001b[38;5;28;01mfor\u001b[39;00m inputs, labels \u001b[38;5;129;01min\u001b[39;00m train_loader:\n\u001b[0;32m----> 7\u001b[0m     inputs, labels \u001b[38;5;241m=\u001b[39m \u001b[43minputs\u001b[49m\u001b[38;5;241;43m.\u001b[39;49m\u001b[43mto\u001b[49m\u001b[43m(\u001b[49m\u001b[43mdevice\u001b[49m\u001b[43m)\u001b[49m, labels\u001b[38;5;241m.\u001b[39mto(device)\n\u001b[1;32m      9\u001b[0m     optimizer\u001b[38;5;241m.\u001b[39mzero_grad()  \u001b[38;5;66;03m# Zero gradients for optimizer\u001b[39;00m\n\u001b[1;32m     10\u001b[0m     outputs \u001b[38;5;241m=\u001b[39m ensemble(inputs)\u001b[38;5;241m.\u001b[39mto(device)  \u001b[38;5;66;03m# Forward pass through ensemble\u001b[39;00m\n",
      "\u001b[0;31mKeyboardInterrupt\u001b[0m: "
     ]
    }
   ],
   "source": [
    "# Train the ensemble weights\n",
    "train_ensemble_weights(ensemble, train_dataloader, criterion, optimizer, epochs=10)"
   ]
  }
 ],
 "metadata": {
  "kernelspec": {
   "display_name": "Python 3",
   "language": "python",
   "name": "python3"
  },
  "language_info": {
   "codemirror_mode": {
    "name": "ipython",
    "version": 3
   },
   "file_extension": ".py",
   "mimetype": "text/x-python",
   "name": "python",
   "nbconvert_exporter": "python",
   "pygments_lexer": "ipython3",
   "version": "3.9.6"
  }
 },
 "nbformat": 4,
 "nbformat_minor": 2
}
